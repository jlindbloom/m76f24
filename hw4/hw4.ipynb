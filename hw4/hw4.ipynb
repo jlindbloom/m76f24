{
 "cells": [
  {
   "cell_type": "markdown",
   "metadata": {},
   "source": [
    "# Math 76 HW4, Fall 2024\n",
    "\n",
    "**Name:**\n",
    "\n",
    "For all plots, make sure to include a title, x-axis label, and y-axis label."
   ]
  },
  {
   "cell_type": "markdown",
   "metadata": {},
   "source": [
    "For this assignment, you will first need to install CVXPY. Probably, running\n",
    "```\n",
    "pip install cvxpy\n",
    "```\n",
    "in your command line will work. Otherwise, see [here](https://www.cvxpy.org/)."
   ]
  },
  {
   "cell_type": "code",
   "execution_count": 1,
   "metadata": {},
   "outputs": [],
   "source": [
    "import numpy as np\n",
    "import matplotlib.pyplot as plt\n",
    "import cvxpy as cp # You will need to install the CVXPY library for this assignment\n",
    "\n",
    "from hw4_helper_funcs import *"
   ]
  },
  {
   "cell_type": "markdown",
   "metadata": {},
   "source": [
    "# Problem 1\n",
    "\n",
    "Problem 5.1 in the textbook (Discrete Inverse Problems).\n",
    "\n",
    "## Part A\n",
    "The purpose of this exercise is to illustrate the sensitivity of the discrepancy principle to variations of the estimate of the error norm. First generate the `shaw` test problem for $n = 100$, and add Gaussian noise with standard deviation $\\eta = 10^{-3}$ to the right-hand side."
   ]
  },
  {
   "cell_type": "code",
   "execution_count": 2,
   "metadata": {},
   "outputs": [],
   "source": [
    "# Generate the shaw problem\n",
    "n = 100\n",
    "A, b_true, x_true = shaw(n)\n",
    "\n",
    "# Add noise to the RHS\n",
    "np.random.seed(0)\n",
    "eta = \n",
    "err_vec = \n",
    "err_vec_norm = \n",
    "b_noisy = "
   ]
  },
  {
   "cell_type": "markdown",
   "metadata": {},
   "source": [
    "## Part B\n",
    "\n",
    "Use the discrepancy principle to compute the Tikhonov solution. The discrepancy principle is implemented in the MATLAB function `discrep` from `hw4_helper_funcs.py`. This function may occasionally have convergence problems; if this happens, then create a new noise realization (or change $\\eta$ slightly) and try again.\n",
    "\n",
    "You should first use the \"safety factor\" $\\nu_{\\text{dp}} = 1$. As the “right-hand side” $\\|\\mathbf{e}\\|_2$ in\n",
    "$$\n",
    "\\| \\mathbf{A} \\mathbf{x}_{\\lambda} - \\mathbf{b} \\|_2 = \\nu_{\\text{dp}} \\| \\mathbf{e} \\|_2,\n",
    "$$\n",
    "try to use both the norm estimate $\\sqrt{n} \\eta$ and the actual 2-norm $\\| \\mathbf{e} \\|_2$ of the perturbation vector $\\mathbf{e}$ (perhaps try with different perturbations). Is\n",
    "there a significant difference in the results?"
   ]
  },
  {
   "cell_type": "code",
   "execution_count": 3,
   "metadata": {},
   "outputs": [],
   "source": [
    "# SVD of A\n",
    "U, s, V = csvd(A)\n",
    "\n",
    "# Compute DP solution with \\nu_{dp} = 1\n",
    "x_tikh_1, dp_lambdah_1 = discrep(U, s, V, b_noisy, err_vec_norm)\n",
    "\n",
    "# Compute DP solution with \\sqrt{n} \\eta as the norm estimate\n",
    "x_tikh_2, dp_lambdah_2 = discrep(U, s, V, b_noisy, np.sqrt(n)*eta)\n"
   ]
  },
  {
   "cell_type": "code",
   "execution_count": 3,
   "metadata": {},
   "outputs": [],
   "source": [
    "plt.plot(x_true, label=\"Ground truth\")\n",
    "plt.plot(b_noisy, label=\"Noisy problem data\")\n",
    "plt.plot(x_tikh_1, label=\"DP solution using $\\| \\\\mathbf{e} \\|_2$\", ls=\"--\")\n",
    "plt.plot(x_tikh_2, label=\"DP solution using $\\sqrt{n} \\eta$\", ls=\":\")\n",
    "plt.legend()\n",
    "plt.title(\"Comparison\")\n",
    "plt.xlabel(\"index\")\n",
    "plt.show()"
   ]
  },
  {
   "cell_type": "markdown",
   "metadata": {},
   "source": [
    "**Response:**"
   ]
  },
  {
   "cell_type": "markdown",
   "metadata": {},
   "source": [
    "## Part C\n",
    "\n",
    "Still with the \"safety\" factor $\\nu_{\\text{dp}} = 1$, use several values of $\\sqrt{n} \\eta$ and/or $\\| \\mathbf{e} \\|_2$ that are slightly too large and slightly too small; this simulates a situation where only a rough estimate is available. For example, scale $\\sqrt{n} \\eta$ and/or $\\| \\mathbf{e} \\|_2$ up and down by 5-10\\%. How sensitive is the regularized solution to overestimates and underestimates of the noise level?"
   ]
  },
  {
   "cell_type": "code",
   "execution_count": 5,
   "metadata": {},
   "outputs": [],
   "source": [
    "# For your convenience, I have defined a function that computes the optimal regularization \n",
    "# parameter by minimizing || x_lambda - x_true ||_2. You can utilize this in your analysis if you wish.\n",
    "# For some inspiration, see Chapter 5 of Hansen.\n",
    "\n",
    "opt_x_tikh, opt_lambdah = determine_optimal_lambdah(A, b_noisy, x_true)"
   ]
  },
  {
   "cell_type": "code",
   "execution_count": null,
   "metadata": {},
   "outputs": [],
   "source": [
    "### Your code here"
   ]
  },
  {
   "cell_type": "markdown",
   "metadata": {},
   "source": [
    "**Response:**"
   ]
  },
  {
   "cell_type": "markdown",
   "metadata": {},
   "source": [
    "# Part D\n",
    "\n",
    "Finally, repeat the experiments with the \"safety factor\" $\\nu_{\\text{DP}} = 2$, and comment on the results. "
   ]
  },
  {
   "cell_type": "code",
   "execution_count": 10,
   "metadata": {},
   "outputs": [],
   "source": [
    "### Your code here"
   ]
  },
  {
   "cell_type": "markdown",
   "metadata": {},
   "source": [
    "**Response:** "
   ]
  },
  {
   "cell_type": "markdown",
   "metadata": {},
   "source": [
    "# Problem 2\n",
    "\n",
    "In this problem, we will consider the reconstruction of two functions:\n",
    "\n",
    "\n",
    "*(1) Sparse signal*: a sparse signal $\\mathbf{f}$ where $\\mathbf{f} \\in \\mathbb{R}^n$. Here you may vary the size and sparsity of the signal. For your convenience, you may use the helper function `gen_sparse_signal` from `hw4_helper_funcs.py`.\n",
    "\n",
    "*(2) Piecewise constant signal*: the piecewise constant function $f$ discretized on $[-1,1]$ given by\n",
    "$$\n",
    "f(t) = \\begin{cases} \n",
    "    1 & \\text{if } -\\frac{1}{4} < t \\geq 0, \\\\\n",
    "    2 & \\text{if } \\frac{1}{2} \\leq t \\leq \\frac{7}{8}, \\\\\n",
    "    0 & \\text{else}.\n",
    "\\end{cases}\n",
    "$$\n",
    "Here we discretize the function using grid points $t_j = -1 + \\frac{2j}{n}$ to obtain the vector $\\mathbf{f} = \\operatorname{vec}(f(t_i))$.\n",
    "\n",
    "\n",
    "Your task is to study and compare the reconstruction of the vector $\\mathbf{f} = \\operatorname{vec}(f(t_i))$ (for both the sparse and piecewise constant cases) using several different methods we have discussed:\n",
    "\n",
    "a. Least squares: (use `least_squares_solver(A, lambdah)`)\n",
    "$$\n",
    "\\operatorname{argmin}_{\\mathbf{f} \\in \\mathbb{R}^n} \\,\\, \\| \\mathbf{A} \\mathbf{f} - \\mathbf{b} \\|_2^2\n",
    "$$\n",
    "b. Tikhonov regularization: (use `tikhonov_reconstruction(n, A, lambdah, T=\"I\")`)\n",
    "$$\n",
    "\\operatorname{argmin}_{\\mathbf{f} \\in \\mathbb{R}^n} \\,\\, \\| \\mathbf{A} \\mathbf{f} - \\mathbf{b} \\|_2^2 + \\lambda^2 \\| \\mathbf{f} \\|_2^2\n",
    "$$\n",
    "c. Tikhonov regularization (with sparsifying transform): (use `tikhonov_reconstruction(n, A, lambdah, T=\"L\")`)\n",
    "$$\n",
    "\\operatorname{argmin}_{\\mathbf{f} \\in \\mathbb{R}^n} \\,\\, \\| \\mathbf{A} \\mathbf{f} - \\mathbf{b} \\|_2^2 + \\lambda^2 \\| \\mathbf{L} \\mathbf{f} \\|_2^2\n",
    "$$\n",
    "d. $\\ell_1$ (sparse signal) regularization: (use `l1_reconstruction(n, A, lambdah, T=\"I\")`)\n",
    "$$\n",
    "\\operatorname{argmin}_{\\mathbf{f} \\in \\mathbb{R}^n} \\,\\, \\| \\mathbf{A} \\mathbf{f} - \\mathbf{b} \\|_2^2 + \\lambda \\| \\mathbf{f} \\|_1\n",
    "$$\n",
    "e. TV regularization: (use `l1_reconstruction(n, lambdah, A, T=\"L\")`)\n",
    "$$\n",
    "\\operatorname{argmin}_{\\mathbf{f} \\in \\mathbb{R}^n} \\,\\, \\| \\mathbf{A} \\mathbf{f} - \\mathbf{b} \\|_2^2 + \\lambda \\| \\mathbf{L} \\mathbf{f} \\|_1\n",
    "$$\n",
    "The matrix $\\mathbf{L}$ is a discretization of the first derivative given by\n",
    "$$\n",
    "\\mathbf{L} = \\begin{bmatrix} -1 & 1 & &  \\\\  & \\ddots & \\ddots & \\\\  & & -1 & 1 \\\\ 1 & & & -1 \\end{bmatrix} \\in \\mathbb{R}^{n \\times n}.\n",
    "$$\n",
    "\n",
    "Here the matrix $\\mathbf{A}$ represents a Gaussian blurring operation, meaning that we are given blurred data which we seek to deblur. The blurring operation is defined by parameters `n`, `m` and `blur_sigma` (width of the blurring kernel) -- for your convenience, you can construct $\\mathbf{A}$ using the code block below:\n",
    "```python\n",
    "n = 200 # default choice, but you can vary\n",
    "m = 6 # default choice, but you can very\n",
    "sigma = 3 # variance of Gaussian blur, you can also try varying this\n",
    "tmp = np.linspace(0,1,m+1) \n",
    "y = np.concatenate((-np.flip(tmp[1:]), tmp))\n",
    "psf = np.exp(-y**2 / (2 * sigma**2)) / np.sqrt(2 * np.pi * sigma**2)\n",
    "psf = psf/np.sum(psf)  # normalize blur\n",
    "A = convmtx(psf,n).T # creates convolution matrix\n",
    "A = A[:, (m):(-m)] # reduces A to a square matrix of n x n (zero boundary condition)\n",
    "```\n",
    "\n",
    "You can construct your (noisy) blurred observation data vector $\\mathbf{b}$ using the block of code below:\n",
    "```python\n",
    "noise_level = 0.01 # default choice, you can vary this\n",
    "np.random.seed(0) # set the random seed for reproducibility\n",
    "b_true = A @ f\n",
    "e = np.random.normal(A.shape[0])\n",
    "e = e/np.linalg.norm(e)\n",
    "noise = noise_level*e\n",
    "b = b_true + noise\n",
    "```\n",
    "\n",
    "For both the sparse signal case (1) and the piecewise constant signal case (2), your task is to choose the regularization parameter λ for all five methods (a)-(e) based on the techniques discussed in class, such as the L-curve or the discrepancy principle. Since you know the underlying noise of the system, you can also choose λ using that information (see notes). It is also ok to guess at a choice of λ and then use trial and error to find the best one. Or you can use a combination of choices. Please comment on how you do this in your write up, and show the reconstructions from each method using your chosen λ's.\n",
    "\n",
    "Write a short summary including figures of your results. What happens as you vary the amount of noise? What happens as you increase the amount of blur? Include graphs of the solutions for your discussion\n"
   ]
  },
  {
   "cell_type": "code",
   "execution_count": 14,
   "metadata": {},
   "outputs": [
    {
     "name": "stderr",
     "output_type": "stream",
     "text": [
      "/Users/jonathanlindbloom/miniconda3/envs/jlinops/lib/python3.11/site-packages/cvxpy/problems/problem.py:1407: UserWarning: Solution may be inaccurate. Try another solver, adjusting the solver settings, or solve with verbose=True for more information.\n",
      "  warnings.warn(\n"
     ]
    }
   ],
   "source": [
    "# READ: this problem is very open-ended, so I do not provide a template for you. \n",
    "# However, below I show you how to set up the two test problem as well as call \n",
    "# my codes for every reconstruction method. Be creative!\n",
    "\n",
    "# Sparse signal example\n",
    "n = 200 # default choice, but you can vary\n",
    "sparsity = 10 # default choice, but you can vary\n",
    "f = generate_sparse_vector(n, sparsity)\n",
    "\n",
    "# Piecewise constant example\n",
    "n = 200 # default choice, but you can vary\n",
    "f = piecewise_constant_function(n)\n",
    "\n",
    "# Setup for the matrix A\n",
    "m = 6 # default choice, but you can very\n",
    "sigma = 3 # variance of Gaussian blur, you can also try varying this\n",
    "tmp = np.linspace(0,1,m+1) \n",
    "y = np.concatenate((-np.flip(tmp[1:]), tmp))\n",
    "psf = np.exp(-y**2 / (2 * sigma**2)) / np.sqrt(2 * np.pi * sigma**2)\n",
    "psf = psf/np.sum(psf)  # normalize blur\n",
    "A = convmtx(psf,n).T # creates convolution matrix\n",
    "A = A[:, (m):(-m)] # reduces A to a square matrix of n x n (zero boundary condition)\n",
    "\n",
    "# Generate the noisy RHS\n",
    "noise_level = 0.01 # default choice, you can vary this\n",
    "np.random.seed(0) # set the random seed for reproducibility\n",
    "b_true = A @ f\n",
    "e = np.random.normal(A.shape[0])\n",
    "e = e/np.linalg.norm(e)\n",
    "noise = noise_level*e\n",
    "b = b_true + noise\n",
    "\n",
    "\n",
    "# (a) Solving the least squares problem\n",
    "x_lambdah = least_squares_solver(A, b)\n",
    "\n",
    "\n",
    "# (b) Solving the Tikhonov problem with no transformation (L = I)\n",
    "lambdah = 1.0\n",
    "L = np.eye(n)\n",
    "x_lambdah = solve_tikhonov(A, b, L, lambdah)\n",
    "\n",
    "\n",
    "# (c) Solving the Tikhonov problem with transformation (smoothing regularization)\n",
    "lambdah = 1.0\n",
    "L = differencing_matrix(n)\n",
    "x_lambdah = solve_tikhonov(A, b, L, lambdah)\n",
    "\n",
    "\n",
    "# (d) L1 regularization (L1 with L = I) (sparse signal)\n",
    "lambdah = 1.0\n",
    "L = np.eye(n)\n",
    "x_lambdah = solve_l1(A, b, L, lambdah)\n",
    "\n",
    "\n",
    "# (e) TV regularization \n",
    "lambdah = 1.0\n",
    "L = differencing_matrix(n)\n",
    "x_lambdah = solve_l1(A, b, L, lambdah)"
   ]
  },
  {
   "cell_type": "markdown",
   "metadata": {},
   "source": [
    "**Response:** "
   ]
  },
  {
   "cell_type": "markdown",
   "metadata": {},
   "source": [
    "# Problem 3\n",
    "\n",
    "Repeat Problem 2 but for the third choice of the underlying function below.\n",
    "\n",
    "*(3) Sawtooth function*: the function given by\n",
    "$$\n",
    "f(t) = \\begin{cases} \n",
    "    - \\pi - t & \\text{if } -\\pi < t \\geq 0, \\\\\n",
    "    \\pi - t & \\text{if }  t > 0.\n",
    "\\end{cases}\n",
    "$$\n",
    "\n",
    "In this case, you will want to use a periodic convolution matrix (see Hansen et al. textook Chapter 4)."
   ]
  },
  {
   "cell_type": "code",
   "execution_count": 18,
   "metadata": {},
   "outputs": [
    {
     "data": {
      "image/png": "[encoded data removed]",
      "text/plain": [
       "<Figure size 640x480 with 1 Axes>"
      ]
     },
     "metadata": {},
     "output_type": "display_data"
    }
   ],
   "source": [
    "# You will need to construct your own periodic convolution matrix. \n",
    "# But for your convenience, I have already provided the sawtooth function.\n",
    "n = 100\n",
    "f = sawtooth_function(n)\n",
    "\n",
    "plt.plot(f)\n",
    "plt.title(\"Sawtooth function\")\n",
    "plt.show()"
   ]
  },
  {
   "cell_type": "markdown",
   "metadata": {},
   "source": [
    "**Response:** "
   ]
  },
  {
   "cell_type": "markdown",
   "metadata": {},
   "source": []
  }
 ],
 "metadata": {
  "kernelspec": {
   "display_name": "Python 3",
   "language": "python",
   "name": "python3"
  },
  "language_info": {
   "codemirror_mode": {
    "name": "ipython",
    "version": 3
   },
   "file_extension": ".py",
   "mimetype": "text/x-python",
   "name": "python",
   "nbconvert_exporter": "python",
   "pygments_lexer": "ipython3",
   "version": "3.11.6"
  }
 },
 "nbformat": 4,
 "nbformat_minor": 2
}

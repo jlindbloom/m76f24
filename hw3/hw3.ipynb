{
 "cells": [
  {
   "cell_type": "markdown",
   "metadata": {},
   "source": [
    "# Math 76 HW3, Fall 2024\n",
    "\n",
    "**Name:**\n",
    "\n",
    "For all plots, make sure to include a title, x-axis label, and y-axis label."
   ]
  },
  {
   "cell_type": "code",
   "execution_count": 1,
   "metadata": {},
   "outputs": [],
   "source": [
    "import numpy as np\n",
    "import matplotlib.pyplot as plt\n",
    "\n",
    "from hw3_helper_funcs import *"
   ]
  },
  {
   "cell_type": "markdown",
   "metadata": {},
   "source": [
    "# Problem 1\n",
    "\n",
    "Derive the expressions on p. 64 of the textbook coming from the statistical aspects of the Tikhonov solution given additive Gaussian white noise.  Specifically derive the equations for the covariance matrix and the expectation of the solution which introduces bias. "
   ]
  },
  {
   "cell_type": "markdown",
   "metadata": {},
   "source": [
    "**Response:** *(it may be easier to do this on paper and submit it alongside the notebook)*"
   ]
  },
  {
   "cell_type": "markdown",
   "metadata": {},
   "source": [
    "# Problem 4.4 (From Oversmoothing to Undersmoothing)\n",
    "\n",
    "## Part A\n",
    "Use the `deriv2` function to generate the test problem (set $n = 32$). Then use the function `csvd` to compute the SVD of $A$, and inspect the singular singular values.\n",
    "\n"
   ]
  },
  {
   "cell_type": "code",
   "execution_count": 2,
   "metadata": {},
   "outputs": [],
   "source": [
    "### Generate the test problem and computed the SVD\n"
   ]
  },
  {
   "cell_type": "markdown",
   "metadata": {},
   "source": [
    "## Part B\n",
    "\n",
    "Add a small amount of noise to the right hand side, e.g., \n",
    "$$\n",
    "\\texttt{e = 1e-3*\\text{np.random.normal(size=len(b))}}\n",
    "$$\n",
    "This noise is certainly not visible when plotting the right-hand side vector, but it is very significant with respect to the regularization. For a number of different regularization parameters $\\lambda$ in the range $10^{-3}$ to $1$, compute the corresponding filter factors $\\varphi_i^{[\\lambda]}$ using the function `fil_fac`, as well as the corresponding Tikhonov solution $x_{\\lambda}$ by means of\n",
    "$$\n",
    "\\texttt{X = tikhonov(U, s, V, b, lambdah)}.\n",
    "$$\n",
    "For each $\\lambda$, plot both the filter factors and the solution, and comment on your results. Use a logarithmic distribution of $\\lambda$-values using `matplotlib`'s `semilogy()` function."
   ]
  },
  {
   "cell_type": "code",
   "execution_count": 3,
   "metadata": {},
   "outputs": [],
   "source": [
    "### Add a small amount of noise\n"
   ]
  },
  {
   "cell_type": "code",
   "execution_count": 4,
   "metadata": {},
   "outputs": [],
   "source": [
    "plt.imshow(A)\n",
    "plt.colorbar()\n",
    "plt.title(\"$A$\")\n",
    "plt.show()"
   ]
  },
  {
   "cell_type": "code",
   "execution_count": 5,
   "metadata": {},
   "outputs": [],
   "source": [
    "plt.plot(b_exact, label=\"$b_{\\\\text{exact}}$\")\n",
    "plt.plot(b_noisy, label=\"$b_{\\\\text{noisy}}$\")\n",
    "plt.xlabel(\"Index\")\n",
    "plt.legend()\n",
    "plt.show()"
   ]
  },
  {
   "cell_type": "code",
   "execution_count": 7,
   "metadata": {},
   "outputs": [],
   "source": [
    "n_lambdahs = 5\n",
    "lambdahs =  ### Choose values of lambdah generated using np.logspace\n",
    "\n",
    "fig, axs = plt.subplots(n_lambdahs,2,figsize=(12,15))\n",
    "\n",
    "for j in range(n_lambdahs):\n",
    "\n",
    "    lambdah = lambdahs[j]\n",
    "    filtered_factors = fil_fac(s, [lambdah])\n",
    "    axs[j,0].semilogy(filtered_factors)\n",
    "    axs[j,0].set_title(f\"filter factors, $\\\\lambda$ = {lambdah:.2e}\")\n",
    "    axs[j,0].set_xlabel(\"Index i\")\n",
    "    axs[j,0].set_ylabel(\"$\\\\varphi_i^{\\lambda}$\")\n",
    "    axs[j,0].set_ybound(1e-9, 1e1)\n",
    "\n",
    "    x_lambdah, _, _ = tikhonov(U, s, V, b_noisy, lambdahs[j])\n",
    "    axs[j,1].plot(x_lambdah)\n",
    "    axs[j,1].set_title(f\"tikhonov solution, $\\\\lambda$ = {lambdahs[j]:.2e}\")\n",
    "    axs[j,1].set_xlabel(\"Index\")\n",
    "    axs[j,1].set_ylabel(\"$x_{\\\\lambda}$\")\n",
    "\n",
    "\n",
    "fig.tight_layout()\n",
    "plt.show()"
   ]
  },
  {
   "cell_type": "markdown",
   "metadata": {},
   "source": [
    "**Response:**"
   ]
  },
  {
   "cell_type": "markdown",
   "metadata": {},
   "source": [
    "# Problem 4.6 (The L-curve)\n",
    "\n",
    "This exercise illustrates the typical behavior of the L-curve for a discrete ill-posed problem, using the second-derivative test problem from Excercise 2.3. \n",
    "\n",
    "\n",
    "## Part A\n",
    "Generate the test problem `deriv2` with $n = 64$, and add Gaussian white noise scaled such that $\\| e \\|_2/\\| b_{\\text{exact}} \\|_2 = 10^{-2}$. Then use `l_curve` to plot the L-curves corresponding to the three different right-hand sides $b_{\\text{exact}}$, $e$, and $b_{\\text{exact}} + e$. What happens to the corner if you switch to lin-lin scale?"
   ]
  },
  {
   "cell_type": "code",
   "execution_count": 8,
   "metadata": {},
   "outputs": [],
   "source": [
    "### Setup each test problem (there should be 3, one for each different RHS parameter)\n"
   ]
  },
  {
   "cell_type": "code",
   "execution_count": 8,
   "metadata": {},
   "outputs": [],
   "source": [
    "plt.imshow(A)\n",
    "plt.colorbar()\n",
    "plt.title(\"$A$\")\n",
    "plt.show()"
   ]
  },
  {
   "cell_type": "code",
   "execution_count": 9,
   "metadata": {},
   "outputs": [],
   "source": [
    "plt.plot(x1_exact, label=\"$x_{\\\\text{exact}}^{(1)}$\")\n",
    "plt.plot(x2_exact, label=\"$x_{\\\\text{exact}}^{(2)}$\")\n",
    "plt.plot(x3_exact, label=\"$x_{\\\\text{exact}}^{(3)}$\")\n",
    "plt.legend()\n",
    "plt.show()"
   ]
  },
  {
   "cell_type": "code",
   "execution_count": 10,
   "metadata": {},
   "outputs": [],
   "source": [
    "plt.plot(b1_exact, label=\"$b_{\\\\text{exact}}^{(1)}$\")\n",
    "plt.plot(b2_exact, label=\"$b_{\\\\text{exact}}^{(2)}$\")\n",
    "plt.plot(b3_exact, label=\"$b_{\\\\text{exact}}^{(3)}$\")\n",
    "plt.legend()\n",
    "plt.show()"
   ]
  },
  {
   "cell_type": "code",
   "execution_count": 11,
   "metadata": {},
   "outputs": [],
   "source": [
    "### Generate noisy perturbations for each RHS vector with the desired magnitude\n",
    "\n",
    "\n",
    "# Add perturbations to the exact RHS's \n",
    "b1_noisy = b1_exact + b1_perturb\n",
    "b2_noisy = b2_exact + b2_perturb\n",
    "b3_noisy = b3_exact + b3_perturb\n",
    "\n",
    "# Use csvd to get the SVD of A\n",
    "U, s, V = csvd(A)"
   ]
  },
  {
   "cell_type": "code",
   "execution_count": 12,
   "metadata": {},
   "outputs": [],
   "source": [
    "# Plot L-curves for the first RHS\n",
    "reg_corner1, rho1, eta1, reg_param1 = l_curve(U, s, b1_noisy)"
   ]
  },
  {
   "cell_type": "code",
   "execution_count": 14,
   "metadata": {},
   "outputs": [],
   "source": [
    "# Plot L-curves for the second RHS\n",
    "reg_corner2, rho2, eta2, reg_param2 = l_curve(U, s, b2_noisy)"
   ]
  },
  {
   "cell_type": "code",
   "execution_count": 15,
   "metadata": {},
   "outputs": [],
   "source": [
    "# Plot L-curves for the third RHS\n",
    "reg_corner3, rho3, eta3, reg_param3 = l_curve(U, s, b3_noisy)"
   ]
  },
  {
   "cell_type": "code",
   "execution_count": 16,
   "metadata": {},
   "outputs": [],
   "source": [
    "# Plot L-curve for the first RHS again, but use linear-linear scale instead.\n",
    "reg_corner1, rho1, eta1, reg_param1 = l_curve(U, s, b1_noisy)\n",
    "\n",
    "# Include these three lines below to change scaling to linear-linear\n",
    "ax = plt.gca()\n",
    "ax.set_xscale(\"linear\")\n",
    "ax.set_yscale(\"linear\")"
   ]
  },
  {
   "cell_type": "code",
   "execution_count": 17,
   "metadata": {},
   "outputs": [],
   "source": [
    "# Plot L-curve for the second RHS again, but use linear-linear scale instead.\n",
    "reg_corner2, rho2, eta2, reg_param2 = l_curve(U, s, b2_noisy)\n",
    "\n",
    "# Include these three lines below to change scaling to linear-linear\n",
    "ax = plt.gca()\n",
    "ax.set_xscale(\"linear\")\n",
    "ax.set_yscale(\"linear\")"
   ]
  },
  {
   "cell_type": "code",
   "execution_count": 18,
   "metadata": {},
   "outputs": [],
   "source": [
    "# Plot L-curve for the third RHS again, but use linear-linear scale instead.\n",
    "reg_corner3, rho3, eta3, reg_param3 = l_curve(U, s, b3_noisy)\n",
    "\n",
    "# Include these three lines below to change scaling to linear-linear\n",
    "ax = plt.gca()\n",
    "ax.set_xscale(\"linear\")\n",
    "ax.set_yscale(\"linear\")"
   ]
  },
  {
   "cell_type": "markdown",
   "metadata": {},
   "source": [
    "**Response:**"
   ]
  },
  {
   "cell_type": "markdown",
   "metadata": {},
   "source": [
    "## Part B\n",
    "\n",
    "Switch back to log-log scale and add a horizontal line at $\\| x_{\\text{exact}} \\|_2$, the norm of the exact solution, and a vertical line at $\\|e\\|_2$, the norm of the perturbation. Relate the positions of these lines to the different parts of the L-curve. "
   ]
  },
  {
   "cell_type": "code",
   "execution_count": 20,
   "metadata": {},
   "outputs": [],
   "source": [
    "# Get norm of x_exact and perturbation corresponding to first RHS\n",
    "x1_exact_norm = np.linalg.norm(x1_exact)\n",
    "b1_perturb_norm = np.linalg.norm(b1_perturb)\n",
    "\n",
    "# L-curve for the first RHS\n",
    "reg_corner1, rho1, eta1, reg_param1 = l_curve(U, s, b1_noisy)\n",
    "\n",
    "# Get current axis\n",
    "ax = plt.gca()\n",
    "\n",
    "### Plot horizontal line at x1_exact (hint: use the axhline)\n",
    "\n",
    "\n",
    "### Plot vertical line at x1_exact (hint: use the axvline)\n",
    "\n",
    "\n",
    "# Add legend\n",
    "ax.legend()\n",
    "\n",
    "plt.show()"
   ]
  },
  {
   "cell_type": "code",
   "execution_count": 21,
   "metadata": {},
   "outputs": [],
   "source": [
    "# Get norm of x_exact and perturbation corresponding to third RHS\n",
    "x2_exact_norm = np.linalg.norm(x2_exact)\n",
    "b2_perturb_norm = np.linalg.norm(b2_perturb)\n",
    "\n",
    "# L-curve for the first RHS\n",
    "reg_corner2, rho2, eta2, reg_param2 = l_curve(U, s, b2_noisy)\n",
    "\n",
    "# Get current axis\n",
    "ax = plt.gca()\n",
    "\n",
    "### Plot horizontal line at x2_exact (hint: use the axhline)\n",
    "\n",
    "\n",
    "### Plot vertical line at x2_exact (hint: use the axvline)\n",
    "\n",
    "\n",
    "# Add legend\n",
    "ax.legend()\n",
    "\n",
    "plt.show()"
   ]
  },
  {
   "cell_type": "code",
   "execution_count": 23,
   "metadata": {},
   "outputs": [],
   "source": [
    "# Get norm of x_exact and perturbation corresponding to third RHS\n",
    "x3_exact_norm = np.linalg.norm(x3_exact)\n",
    "b3_perturb_norm = np.linalg.norm(b3_perturb)\n",
    "\n",
    "# L-curve for the third RHS\n",
    "reg_corner3, rho3, eta3, reg_param3 = l_curve(U, s, b3_noisy)\n",
    "\n",
    "# Get current axis\n",
    "ax = plt.gca()\n",
    "\n",
    "### Plot horizontal line at x3_exact (hint: use the axhline)\n",
    "\n",
    "\n",
    "### Plot vertical line at x3_exact (hint: use the axvline)\n",
    "\n",
    "\n",
    "# Add legend\n",
    "ax.legend()\n",
    "\n",
    "plt.show()"
   ]
  },
  {
   "cell_type": "markdown",
   "metadata": {},
   "source": [
    "**Response:**"
   ]
  },
  {
   "cell_type": "markdown",
   "metadata": {},
   "source": [
    "## Part C\n",
    "\n",
    "Find (by trial and error) a Tikhonov regularization parameter $\\lambda^*$ that approximately minimizes the error $\\| x_{\\text{exact}} - x_{\\lambda} \\|_2$ between the exact solution $x_{\\text{exact}}$ and the regularized solution $x_{\\lambda}$. Add the point $(\\| A x_{\\lambda^*}  - b\\|_2, \\| x_{\\lambda^*} \\|_2)$ to the L-curve (it must lie on the L-curve corresponding to $b$). Is it near the corner? (Note: here $b$ denotes the noisy RHS data vector, *not* the noiseless RHS vector)"
   ]
  },
  {
   "cell_type": "code",
   "execution_count": 23,
   "metadata": {},
   "outputs": [],
   "source": [
    "### Write some code / use trial/error to minimize || x_exact - x_lambda ||_2 for the first RHS\n",
    "\n",
    "opt_lambdah1 = ### Your optimal lambdah\n",
    "xopt1 = ### Your guess"
   ]
  },
  {
   "cell_type": "code",
   "execution_count": 24,
   "metadata": {},
   "outputs": [],
   "source": [
    "### Write some code / use trial/error to minimize || x_exact - x_lambda ||_2 for the second RHS\n",
    "\n",
    "opt_lambdah2 = ### Your optimal lambdah\n",
    "xopt2 = ### Your guess"
   ]
  },
  {
   "cell_type": "code",
   "execution_count": 25,
   "metadata": {},
   "outputs": [],
   "source": [
    "### Write some code / use trial/error to minimize || x_exact - x_lambda ||_2 for the third RHS\n",
    "\n",
    "opt_lambdah3 = ### Your optimal lambdah\n",
    "xopt3 = ### Your guess"
   ]
  },
  {
   "cell_type": "code",
   "execution_count": 24,
   "metadata": {},
   "outputs": [],
   "source": [
    "### Remake plot for the first RHS, adding the point (|| A x_lambda - b||_2, ||x_lambda||_2) to the graph\n",
    "\n",
    "# Get norm of x_exact and perturbation corresponding to first RHS\n",
    "x1_exact_norm = np.linalg.norm(x1_exact)\n",
    "b1_perturb_norm = np.linalg.norm(b1_perturb)\n",
    "\n",
    "# L-curve for the first RHS\n",
    "reg_corner1, rho1, eta1, reg_param1 = l_curve(U, s, b1_noisy)\n",
    "\n",
    "# Get current axis\n",
    "ax = plt.gca()\n",
    "\n",
    "### Plot horizontal line at x1_exact (hint: use the axhline)\n",
    "\n",
    "\n",
    "### Plot vertical line at x1_exact (hint: use the axvline)\n",
    "\n",
    "\n",
    "### Add the point (|| A x_lambda - b||_2, ||x_lambda||_2) to the graph\n",
    "\n",
    "\n",
    "\n",
    "# Add legend\n",
    "ax.legend()\n",
    "\n",
    "plt.show()"
   ]
  },
  {
   "cell_type": "code",
   "execution_count": 25,
   "metadata": {},
   "outputs": [],
   "source": [
    "### Remake plot for the second RHS, adding the point (|| A x_lambda - b||_2, ||x_lambda||_2) to the graph\n",
    "\n",
    "# Get norm of x_exact and perturbation corresponding to first RHS\n",
    "x2_exact_norm = np.linalg.norm(x2_exact)\n",
    "b2_perturb_norm = np.linalg.norm(b2_perturb)\n",
    "\n",
    "# L-curve for the first RHS\n",
    "reg_corner2, rho2, eta2, reg_param2 = l_curve(U, s, b2_noisy)\n",
    "\n",
    "# Get current axis\n",
    "ax = plt.gca()\n",
    "\n",
    "### Plot horizontal line at x2_exact (hint: use the axhline)\n",
    "\n",
    "\n",
    "### Plot vertical line at x2_exact (hint: use the axvline)\n",
    "\n",
    "\n",
    "### Add the point (|| A x_lambda - b||_2, ||x_lambda||_2) to the graph\n",
    "\n",
    "\n",
    "\n",
    "# Add legend\n",
    "ax.legend()\n",
    "\n",
    "plt.show()"
   ]
  },
  {
   "cell_type": "code",
   "execution_count": 26,
   "metadata": {},
   "outputs": [],
   "source": [
    "# ### Remake plot for the third RHS, adding the point (|| A x_lambda - b||_2, ||x_lambda||_2) to the graph\n",
    "\n",
    "# # Get norm of x_exact and perturbation corresponding to first RHS\n",
    "# x3_exact_norm = np.linalg.norm(x3_exact)\n",
    "# b3_perturb_norm = np.linalg.norm(b3_perturb)\n",
    "\n",
    "# # L-curve for the first RHS\n",
    "# reg_corner3, rho3, eta3, reg_param3 = l_curve(U, s, b3_noisy)\n",
    "\n",
    "# # Get current axis\n",
    "# ax = plt.gca()\n",
    "\n",
    "# ### Plot horizontal line at x3_exact (hint: use the axhline)\n",
    "\n",
    "\n",
    "# ### Plot vertical line at x3_exact (hint: use the axvline)\n",
    "\n",
    "\n",
    "# ### Add the point (|| A x_lambda - b||_2, ||x_lambda||_2) to the graph\n",
    "\n",
    "\n",
    "\n",
    "# # Add legend\n",
    "# ax.legend()\n",
    "\n",
    "# plt.show()"
   ]
  },
  {
   "cell_type": "markdown",
   "metadata": {},
   "source": [
    "**Response:**"
   ]
  },
  {
   "cell_type": "markdown",
   "metadata": {},
   "source": [
    "# Problem 4.7 (Limitations of TSVD and Tikhonov Methods)\n",
    "\n",
    "This exercise illustrates one of the limitations of TSVD and Tikhonov solutions, namely, that they are not so well suited for computing regularized solutions when the exact solution is discontinuous. We use the model problem `wing`, whose solution has has two discontinuities. Since we are mainly interested in the approximation properties of the TSVD and Tikhonov solutions, we do not add any noise in this exercise. \n",
    "\n",
    "## Part A\n",
    "\n",
    "Generate the model problem using `wing`, plot the exact solution, and notice its form. Compute TSVD and Tikhonov solutions for various regularization parameters. Monitor the solutions and try to find the \"best\" value of $k$ and $\\lambda$. Notice how difficult it is to reconstruct the discontinuities. "
   ]
  },
  {
   "cell_type": "code",
   "execution_count": 29,
   "metadata": {},
   "outputs": [],
   "source": [
    "# Define wing problem\n",
    "A, b, x = wing(32)\n",
    "\n",
    "# Use csvd to get the SVD of A\n",
    "U, s, V = csvd(A)"
   ]
  },
  {
   "cell_type": "code",
   "execution_count": 27,
   "metadata": {},
   "outputs": [],
   "source": [
    "plt.imshow(A)\n",
    "plt.colorbar()\n",
    "plt.title(\"$A$\")\n",
    "plt.show()"
   ]
  },
  {
   "cell_type": "code",
   "execution_count": 28,
   "metadata": {},
   "outputs": [],
   "source": [
    "plt.plot(x)\n",
    "plt.title(\"$x$\")\n",
    "plt.xlabel(\"Index\")\n",
    "plt.show()"
   ]
  },
  {
   "cell_type": "code",
   "execution_count": 29,
   "metadata": {},
   "outputs": [],
   "source": [
    "plt.plot(b)\n",
    "plt.title(\"$b$\")\n",
    "plt.xlabel(\"Index\")\n",
    "plt.show()"
   ]
  },
  {
   "cell_type": "code",
   "execution_count": 30,
   "metadata": {},
   "outputs": [],
   "source": [
    "### Try to find the best value of k in the TSVD\n",
    "\n"
   ]
  },
  {
   "cell_type": "code",
   "execution_count": 31,
   "metadata": {},
   "outputs": [],
   "source": [
    "### Try to find the best value of \\lambda in the Tikhonov problem\n",
    "\n"
   ]
  },
  {
   "cell_type": "markdown",
   "metadata": {},
   "source": [
    "**Response:**"
   ]
  }
 ],
 "metadata": {
  "kernelspec": {
   "display_name": "Python 3",
   "language": "python",
   "name": "python3"
  },
  "language_info": {
   "codemirror_mode": {
    "name": "ipython",
    "version": 3
   },
   "file_extension": ".py",
   "mimetype": "text/x-python",
   "name": "python",
   "nbconvert_exporter": "python",
   "pygments_lexer": "ipython3",
   "version": "3.11.6"
  }
 },
 "nbformat": 4,
 "nbformat_minor": 2
}
